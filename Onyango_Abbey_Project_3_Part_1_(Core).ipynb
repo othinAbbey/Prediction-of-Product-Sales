{
  "nbformat": 4,
  "nbformat_minor": 0,
  "metadata": {
    "colab": {
      "provenance": [],
      "mount_file_id": "1101GPgv0K4DvnTsXLbeFGilUG6Jane5o",
      "authorship_tag": "ABX9TyNoixseIrJVEqQH2TZIWYp6",
      "include_colab_link": true
    },
    "kernelspec": {
      "name": "python3",
      "display_name": "Python 3"
    },
    "language_info": {
      "name": "python"
    }
  },
  "cells": [
    {
      "cell_type": "markdown",
      "metadata": {
        "id": "view-in-github",
        "colab_type": "text"
      },
      "source": [
        "<a href=\"https://colab.research.google.com/github/othinAbbey/Prediction-of-Product-Sales/blob/main/Onyango_Abbey_Project_3_Part_1_(Core).ipynb\" target=\"_parent\"><img src=\"https://colab.research.google.com/assets/colab-badge.svg\" alt=\"Open In Colab\"/></a>"
      ]
    },
    {
      "cell_type": "code",
      "source": [
        "import pandas as pd\n",
        "import numpy as np\n",
        "import matplotlib as mpl\n",
        "import matplotlib.pyplot as plt\n",
        "import seaborn as sns\n",
        "import matplotlib.ticker as mticks\n",
        "import matplotlib.dates as mdates\n",
        "import os\n",
        "# set random seed\n",
        "SEED = 321\n",
        "np.random.seed(SEED)\n",
        "plt.rcParams['figure.facecolor']='white'\n",
        "plt.rcParams['figure.figsize']=(15,4)\n",
        "sns.set_context(\"talk\", font_scale=0.9)\n"
      ],
      "metadata": {
        "id": "-8lXDjchUfx5"
      },
      "execution_count": 18,
      "outputs": []
    },
    {
      "cell_type": "code",
      "source": [
        "import os\n",
        "import pandas as pd\n",
        "\n",
        "# Assuming your Google Drive folder path\n",
        "folder_path = '/content/drive/MyDrive/Data'\n",
        "\n",
        "# Get a list of all files in the folder\n",
        "files = os.listdir(folder_path)\n",
        "\n",
        "# Filter out only CSV files\n",
        "csv_files = [file for file in files if file.endswith('.csv')]\n",
        "\n",
        "# Create an empty list to store dataframes\n",
        "dfs = []\n",
        "\n",
        "# Loop through each CSV file and load it into a dataframe\n",
        "for file in csv_files:\n",
        "    file_path = os.path.join(folder_path, file)\n",
        "    df = pd.read_csv(file_path)\n",
        "    dfs.append(df)\n",
        "\n",
        "# Concatenate all dataframes into one\n",
        "combined_df2 = pd.concat(dfs, ignore_index=True)\n",
        "\n",
        "# Now you have a single dataframe containing all datasets from the Google Drive folder\n",
        "combined_df2.head()\n",
        "combined_df3 = combined_df2"
      ],
      "metadata": {
        "id": "7VSq7AmCqjgU"
      },
      "execution_count": 19,
      "outputs": []
    },
    {
      "cell_type": "markdown",
      "source": [
        "## make ID and index\n"
      ],
      "metadata": {
        "id": "5jvryqKtty7b"
      }
    },
    {
      "cell_type": "code",
      "source": [
        "#make ID and index\n",
        "combined_df2 = combined_df2.set_index('ID')"
      ],
      "metadata": {
        "id": "_yS4mCsot2lJ"
      },
      "execution_count": 20,
      "outputs": []
    },
    {
      "cell_type": "markdown",
      "source": [
        "# check if all the data has been combined"
      ],
      "metadata": {
        "id": "sIfxF5G4t9UW"
      }
    },
    {
      "cell_type": "code",
      "source": [
        "# sliced_row = combined_df2.loc[12592889]\n",
        "# print(sliced_row)"
      ],
      "metadata": {
        "id": "oA_-g965t7lA"
      },
      "execution_count": 21,
      "outputs": []
    },
    {
      "cell_type": "code",
      "source": [
        "combined_df3.dtypes"
      ],
      "metadata": {
        "colab": {
          "base_uri": "https://localhost:8080/"
        },
        "id": "aV_0i3LQuCa8",
        "outputId": "30f09fc6-ec9e-4e7b-e12a-32407fc6c755"
      },
      "execution_count": 22,
      "outputs": [
        {
          "output_type": "execute_result",
          "data": {
            "text/plain": [
              "ID                        int64\n",
              "Date                     object\n",
              "Primary Type             object\n",
              "Description              object\n",
              "Location Description     object\n",
              "Arrest                     bool\n",
              "Domestic                   bool\n",
              "Beat                      int64\n",
              "District                float64\n",
              "Ward                    float64\n",
              "Latitude                float64\n",
              "Longitude               float64\n",
              "dtype: object"
            ]
          },
          "metadata": {},
          "execution_count": 22
        }
      ]
    },
    {
      "cell_type": "code",
      "source": [
        "combined_df3['Date'] = pd.to_datetime(combined_df3['Date'])\n",
        "combined_df3.dtypes"
      ],
      "metadata": {
        "colab": {
          "base_uri": "https://localhost:8080/"
        },
        "id": "bkPtejyfuOCM",
        "outputId": "7b6f67ac-59a1-40c2-a1f9-596f96e0d801"
      },
      "execution_count": 23,
      "outputs": [
        {
          "output_type": "execute_result",
          "data": {
            "text/plain": [
              "ID                               int64\n",
              "Date                    datetime64[ns]\n",
              "Primary Type                    object\n",
              "Description                     object\n",
              "Location Description            object\n",
              "Arrest                            bool\n",
              "Domestic                          bool\n",
              "Beat                             int64\n",
              "District                       float64\n",
              "Ward                           float64\n",
              "Latitude                       float64\n",
              "Longitude                      float64\n",
              "dtype: object"
            ]
          },
          "metadata": {},
          "execution_count": 23
        }
      ]
    },
    {
      "cell_type": "markdown",
      "source": [
        "# Topic 1) Comparing Police Districts\n",
        "  - Which district had the most crimes in 2022?\n",
        "  - Which had the least?"
      ],
      "metadata": {
        "id": "Dj-VXV1muRrF"
      }
    },
    {
      "cell_type": "markdown",
      "source": [
        "## Add the 'Year' column by extracting it from the 'Date' column"
      ],
      "metadata": {
        "id": "Je0YFpBxueHI"
      }
    },
    {
      "cell_type": "code",
      "source": [
        "combined_df3['Year'] = pd.to_datetime(combined_df3['Date']).dt.year"
      ],
      "metadata": {
        "id": "GbEZKiGSuXRP"
      },
      "execution_count": 24,
      "outputs": []
    },
    {
      "cell_type": "code",
      "source": [
        "most_crimes_district = combined_df3[combined_df3['Year'] == 2022].groupby('District')['ID'].sum().sort_values(ascending=False).index[0]\n",
        "\n",
        "print(f\"District with the most crimes in 2022: {most_crimes_district}\")"
      ],
      "metadata": {
        "colab": {
          "base_uri": "https://localhost:8080/",
          "height": 308
        },
        "id": "jenJoSUwujT-",
        "outputId": "d2e76347-ec4f-4fd4-e35c-5f8021700ffa"
      },
      "execution_count": 25,
      "outputs": [
        {
          "output_type": "error",
          "ename": "IndexError",
          "evalue": "index 0 is out of bounds for axis 0 with size 0",
          "traceback": [
            "\u001b[0;31m---------------------------------------------------------------------------\u001b[0m",
            "\u001b[0;31mIndexError\u001b[0m                                Traceback (most recent call last)",
            "\u001b[0;32m<ipython-input-25-a1855e6e871e>\u001b[0m in \u001b[0;36m<cell line: 1>\u001b[0;34m()\u001b[0m\n\u001b[0;32m----> 1\u001b[0;31m \u001b[0mmost_crimes_district\u001b[0m \u001b[0;34m=\u001b[0m \u001b[0mcombined_df3\u001b[0m\u001b[0;34m[\u001b[0m\u001b[0mcombined_df3\u001b[0m\u001b[0;34m[\u001b[0m\u001b[0;34m'Year'\u001b[0m\u001b[0;34m]\u001b[0m \u001b[0;34m==\u001b[0m \u001b[0;36m2022\u001b[0m\u001b[0;34m]\u001b[0m\u001b[0;34m.\u001b[0m\u001b[0mgroupby\u001b[0m\u001b[0;34m(\u001b[0m\u001b[0;34m'District'\u001b[0m\u001b[0;34m)\u001b[0m\u001b[0;34m[\u001b[0m\u001b[0;34m'ID'\u001b[0m\u001b[0;34m]\u001b[0m\u001b[0;34m.\u001b[0m\u001b[0msum\u001b[0m\u001b[0;34m(\u001b[0m\u001b[0;34m)\u001b[0m\u001b[0;34m.\u001b[0m\u001b[0msort_values\u001b[0m\u001b[0;34m(\u001b[0m\u001b[0mascending\u001b[0m\u001b[0;34m=\u001b[0m\u001b[0;32mFalse\u001b[0m\u001b[0;34m)\u001b[0m\u001b[0;34m.\u001b[0m\u001b[0mindex\u001b[0m\u001b[0;34m[\u001b[0m\u001b[0;36m0\u001b[0m\u001b[0;34m]\u001b[0m\u001b[0;34m\u001b[0m\u001b[0;34m\u001b[0m\u001b[0m\n\u001b[0m\u001b[1;32m      2\u001b[0m \u001b[0;34m\u001b[0m\u001b[0m\n\u001b[1;32m      3\u001b[0m \u001b[0mprint\u001b[0m\u001b[0;34m(\u001b[0m\u001b[0;34mf\"District with the most crimes in 2022: {most_crimes_district}\"\u001b[0m\u001b[0;34m)\u001b[0m\u001b[0;34m\u001b[0m\u001b[0;34m\u001b[0m\u001b[0m\n",
            "\u001b[0;32m/usr/local/lib/python3.10/dist-packages/pandas/core/indexes/base.py\u001b[0m in \u001b[0;36m__getitem__\u001b[0;34m(self, key)\u001b[0m\n\u001b[1;32m   5173\u001b[0m             \u001b[0;31m# GH#44051 exclude bool, which would return a 2d ndarray\u001b[0m\u001b[0;34m\u001b[0m\u001b[0;34m\u001b[0m\u001b[0m\n\u001b[1;32m   5174\u001b[0m             \u001b[0mkey\u001b[0m \u001b[0;34m=\u001b[0m \u001b[0mcom\u001b[0m\u001b[0;34m.\u001b[0m\u001b[0mcast_scalar_indexer\u001b[0m\u001b[0;34m(\u001b[0m\u001b[0mkey\u001b[0m\u001b[0;34m)\u001b[0m\u001b[0;34m\u001b[0m\u001b[0;34m\u001b[0m\u001b[0m\n\u001b[0;32m-> 5175\u001b[0;31m             \u001b[0;32mreturn\u001b[0m \u001b[0mgetitem\u001b[0m\u001b[0;34m(\u001b[0m\u001b[0mkey\u001b[0m\u001b[0;34m)\u001b[0m\u001b[0;34m\u001b[0m\u001b[0;34m\u001b[0m\u001b[0m\n\u001b[0m\u001b[1;32m   5176\u001b[0m \u001b[0;34m\u001b[0m\u001b[0m\n\u001b[1;32m   5177\u001b[0m         \u001b[0;32mif\u001b[0m \u001b[0misinstance\u001b[0m\u001b[0;34m(\u001b[0m\u001b[0mkey\u001b[0m\u001b[0;34m,\u001b[0m \u001b[0mslice\u001b[0m\u001b[0;34m)\u001b[0m\u001b[0;34m:\u001b[0m\u001b[0;34m\u001b[0m\u001b[0;34m\u001b[0m\u001b[0m\n",
            "\u001b[0;31mIndexError\u001b[0m: index 0 is out of bounds for axis 0 with size 0"
          ]
        }
      ]
    },
    {
      "cell_type": "code",
      "source": [
        " # Create a bar chart of district counts in 2022\n",
        "combined_df3_2022 = combined_df3[combined_df3[\"Year\"] == 2022]\n",
        "district_counts_2022 = (\n",
        "    combined_df3_2022.groupby(\"District\")\n",
        "    .size()\n",
        "    .reset_index(name=\"Count\")\n",
        ")\n",
        "plt.bar(district_counts_2022[\"District\"], district_counts_2022[\"Count\"])\n",
        "\n",
        "# Set the title and axis labels\n",
        "plt.title(\"District Crime Count in 2022\")\n",
        "plt.xlabel(\"District ID\")\n",
        "plt.ylabel(\"Count oF Crimes\")\n",
        "\n",
        "# Rotate the x-axis labels for better readability\n",
        "plt.xticks(rotation=90)\n",
        "\n",
        "# Show the plot\n",
        "plt.show()"
      ],
      "metadata": {
        "id": "8dbaMP3-vQJl"
      },
      "execution_count": null,
      "outputs": []
    },
    {
      "cell_type": "code",
      "source": [
        "import matplotlib.pyplot as plt\n",
        "\n",
        "# Get the data from combined_df3\n",
        "id_counts_by_year = combined_df3.groupby('Year')['ID'].count()\n",
        "\n",
        "# Create the line plot\n",
        "plt.plot(id_counts_by_year.index, id_counts_by_year.values)\n",
        "\n",
        "# Set the title and axis labels\n",
        "plt.title('Count of Crimes by Year')\n",
        "plt.xlabel('Year')\n",
        "plt.ylabel('Count of Crimes')\n",
        "\n",
        "# Show the plot\n",
        "plt.show()"
      ],
      "metadata": {
        "id": "IoIkkDVavabS"
      },
      "execution_count": null,
      "outputs": []
    },
    {
      "cell_type": "code",
      "source": [
        "# Add the 'Year' column by extracting it from the 'Date' column\n",
        "combined_df3['Month'] = pd.to_datetime(combined_df3['Date']).dt.month"
      ],
      "metadata": {
        "id": "cG9ijFPJvbvS"
      },
      "execution_count": null,
      "outputs": []
    },
    {
      "cell_type": "code",
      "source": [
        "import matplotlib.pyplot as plt\n",
        "\n",
        "# Get the data from combined_df3\n",
        "id_counts_by_month = combined_df3.groupby('Month')['ID'].count()\n",
        "\n",
        "# Create the line plot\n",
        "plt.plot(id_counts_by_month.index, id_counts_by_month.values)\n",
        "\n",
        "# Set the title and axis labels\n",
        "plt.title('Count of Crimes by Month')\n",
        "plt.xlabel('Month')\n",
        "plt.ylabel('Count of Crimes')\n",
        "\n",
        "# Show the plot\n",
        "plt.show()"
      ],
      "metadata": {
        "id": "Rx5vn4WVvgLU"
      },
      "execution_count": null,
      "outputs": []
    },
    {
      "cell_type": "code",
      "source": [
        "combined_df3['Hour'] = pd.to_datetime(combined_df3['Date']).dt.hour"
      ],
      "metadata": {
        "id": "BjXUTLjzvjNv"
      },
      "execution_count": null,
      "outputs": []
    },
    {
      "cell_type": "code",
      "source": [
        "import matplotlib.pyplot as plt\n",
        "\n",
        "# Get the data from combined_df3\n",
        "id_counts_by_Hour = combined_df3.groupby('Hour')['ID'].count()\n",
        "\n",
        "# Create the line plot\n",
        "plt.plot(id_counts_by_Hour.index, id_counts_by_Hour.values)\n",
        "\n",
        "# Set the title and axis labels\n",
        "plt.title('Count of Crimes by Hour')\n",
        "plt.xlabel('Hour')\n",
        "plt.ylabel('Count of Crimes')\n",
        "\n",
        "# Show the plot\n",
        "plt.show()"
      ],
      "metadata": {
        "id": "rzXHYuuTvlLD"
      },
      "execution_count": null,
      "outputs": []
    }
  ]
}