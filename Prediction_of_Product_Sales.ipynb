{
  "nbformat": 4,
  "nbformat_minor": 0,
  "metadata": {
    "colab": {
      "provenance": [],
      "authorship_tag": "ABX9TyMMkvEqDin88p4Y46vMgYHQ",
      "include_colab_link": true
    },
    "kernelspec": {
      "name": "python3",
      "display_name": "Python 3"
    },
    "language_info": {
      "name": "python"
    }
  },
  "cells": [
    {
      "cell_type": "markdown",
      "metadata": {
        "id": "view-in-github",
        "colab_type": "text"
      },
      "source": [
        "<a href=\"https://colab.research.google.com/github/othinAbbey/Prediction-of-Product-Sales/blob/main/Prediction_of_Product_Sales.ipynb\" target=\"_parent\"><img src=\"https://colab.research.google.com/assets/colab-badge.svg\" alt=\"Open In Colab\"/></a>"
      ]
    },
    {
      "cell_type": "markdown",
      "source": [
        "# Prediction of Product Sales.\n",
        "-  Author: Onyango Abbey."
      ],
      "metadata": {
        "id": "8CrCeYPIOA-r"
      }
    },
    {
      "cell_type": "markdown",
      "source": [
        "## Project Overview"
      ],
      "metadata": {
        "id": "N6ZCu5iVO3Bg"
      }
    },
    {
      "cell_type": "code",
      "source": [],
      "metadata": {
        "id": "qGtkG2GSPd_H"
      },
      "execution_count": null,
      "outputs": []
    },
    {
      "cell_type": "markdown",
      "source": [
        "## Load and Inspect Data"
      ],
      "metadata": {
        "id": "Gg0bXXPIOmrO"
      }
    },
    {
      "cell_type": "code",
      "source": [],
      "metadata": {
        "id": "NkRvBIIyPeiP"
      },
      "execution_count": null,
      "outputs": []
    },
    {
      "cell_type": "markdown",
      "source": [
        "## Clean Data"
      ],
      "metadata": {
        "id": "4reBvpwBOoG5"
      }
    },
    {
      "cell_type": "code",
      "source": [],
      "metadata": {
        "id": "kcnIpL_KPe_c"
      },
      "execution_count": null,
      "outputs": []
    },
    {
      "cell_type": "markdown",
      "source": [
        "## Exploratory Data Analysis"
      ],
      "metadata": {
        "id": "nZZc9qZ4Ouvd"
      }
    },
    {
      "cell_type": "code",
      "source": [],
      "metadata": {
        "id": "3XLBnRxTPfa3"
      },
      "execution_count": null,
      "outputs": []
    },
    {
      "cell_type": "markdown",
      "source": [
        "## Feature Inspection"
      ],
      "metadata": {
        "id": "uu_-jrWIPFgP"
      }
    },
    {
      "cell_type": "code",
      "source": [],
      "metadata": {
        "id": "XLjijdxGPfz7"
      },
      "execution_count": null,
      "outputs": []
    }
  ]
}